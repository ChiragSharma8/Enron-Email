{
 "cells": [
  {
   "cell_type": "code",
   "execution_count": 35,
   "metadata": {},
   "outputs": [],
   "source": [
    "import pandas as pd\n",
    "pd.set_option(\"display.max_rows\", 999)\n",
    "pd.set_option('max_colwidth',100)\n",
    "import numpy as np\n",
    "from IPython.display import display"
   ]
  },
  {
   "cell_type": "code",
   "execution_count": 36,
   "metadata": {},
   "outputs": [
    {
     "name": "stdout",
     "output_type": "stream",
     "text": [
      "Successfully loaded 517401 rows and 12 columns!\n"
     ]
    }
   ],
   "source": [
    "# taking csv prepared earlier to explore data \n",
    "\n",
    "filepath = \"Enron_Kaggle_dataset/email_features.csv\"\n",
    "# Read the data into a pandas dataframe called emails\n",
    "\n",
    "df_email = pd.read_csv(filepath)\n",
    "\n",
    "headers = [header for header in df_email.columns]\n",
    "\n",
    "print(\"Successfully loaded {} rows and {} columns!\".format(df_email.shape[0], df_email.shape[1]))\n"
   ]
  },
  {
   "cell_type": "code",
   "execution_count": 37,
   "metadata": {},
   "outputs": [
    {
     "data": {
      "text/html": [
       "<div>\n",
       "<style scoped>\n",
       "    .dataframe tbody tr th:only-of-type {\n",
       "        vertical-align: middle;\n",
       "    }\n",
       "\n",
       "    .dataframe tbody tr th {\n",
       "        vertical-align: top;\n",
       "    }\n",
       "\n",
       "    .dataframe thead th {\n",
       "        text-align: right;\n",
       "    }\n",
       "</style>\n",
       "<table border=\"1\" class=\"dataframe\">\n",
       "  <thead>\n",
       "    <tr style=\"text-align: right;\">\n",
       "      <th></th>\n",
       "      <th>file</th>\n",
       "      <th>message</th>\n",
       "      <th>Message-Body</th>\n",
       "      <th>X-From</th>\n",
       "      <th>employee</th>\n",
       "      <th>Date</th>\n",
       "      <th>Subject</th>\n",
       "      <th>X-Folder</th>\n",
       "      <th>X-To</th>\n",
       "      <th>X-cc</th>\n",
       "      <th>X-bc</th>\n",
       "      <th>X-Origin</th>\n",
       "    </tr>\n",
       "  </thead>\n",
       "  <tbody>\n",
       "    <tr>\n",
       "      <th>0</th>\n",
       "      <td>allen-p/_sent_mail/1.</td>\n",
       "      <td>Message-ID: &lt;18782981.1075855378110.JavaMail.evans@thyme&gt;\\nDate: Mon, 14 May 2001 16:39:00 -0700...</td>\n",
       "      <td>here is our forecast\\n\\n</td>\n",
       "      <td>Phillip K Allen</td>\n",
       "      <td>allen-p</td>\n",
       "      <td>2001-05-14 23:39:00+00:00</td>\n",
       "      <td>NaN</td>\n",
       "      <td>\\Phillip_Allen_Jan2002_1\\Allen, Phillip K.\\'Sent Mail</td>\n",
       "      <td>Tim Belden &lt;Tim Belden/Enron@EnronXGate&gt;</td>\n",
       "      <td>NaN</td>\n",
       "      <td>NaN</td>\n",
       "      <td>Allen-P</td>\n",
       "    </tr>\n",
       "  </tbody>\n",
       "</table>\n",
       "</div>"
      ],
      "text/plain": [
       "                    file  \\\n",
       "0  allen-p/_sent_mail/1.   \n",
       "\n",
       "                                                                                               message  \\\n",
       "0  Message-ID: <18782981.1075855378110.JavaMail.evans@thyme>\\nDate: Mon, 14 May 2001 16:39:00 -0700...   \n",
       "\n",
       "                Message-Body           X-From employee  \\\n",
       "0  here is our forecast\\n\\n   Phillip K Allen  allen-p   \n",
       "\n",
       "                        Date Subject  \\\n",
       "0  2001-05-14 23:39:00+00:00     NaN   \n",
       "\n",
       "                                                X-Folder  \\\n",
       "0  \\Phillip_Allen_Jan2002_1\\Allen, Phillip K.\\'Sent Mail   \n",
       "\n",
       "                                       X-To X-cc  X-bc X-Origin  \n",
       "0  Tim Belden <Tim Belden/Enron@EnronXGate>  NaN   NaN  Allen-P  "
      ]
     },
     "execution_count": 37,
     "metadata": {},
     "output_type": "execute_result"
    }
   ],
   "source": [
    "df_email.head(1)"
   ]
  },
  {
   "cell_type": "code",
   "execution_count": 38,
   "metadata": {},
   "outputs": [],
   "source": [
    "def cleanemail(email):\n",
    "    return ' '.join([s.strip() for s in email.splitlines()][15:])\n",
    "\n",
    "df_email['email-body'] = df_email['message'].apply(cleanemail)"
   ]
  },
  {
   "cell_type": "code",
   "execution_count": 4,
   "metadata": {},
   "outputs": [],
   "source": [
    "df_email = df_email.drop(columns=['message', 'file', 'X-bc'])"
   ]
  },
  {
   "cell_type": "code",
   "execution_count": 5,
   "metadata": {},
   "outputs": [
    {
     "data": {
      "text/plain": [
       "Message-Body         0\n",
       "X-From              29\n",
       "employee             0\n",
       "Date                 0\n",
       "Subject          19187\n",
       "X-Folder            29\n",
       "X-To              9153\n",
       "X-cc            388515\n",
       "X-Origin            29\n",
       "email-body           0\n",
       "dtype: int64"
      ]
     },
     "execution_count": 5,
     "metadata": {},
     "output_type": "execute_result"
    }
   ],
   "source": [
    "df_email.isna().sum()"
   ]
  },
  {
   "cell_type": "code",
   "execution_count": 6,
   "metadata": {},
   "outputs": [
    {
     "name": "stdout",
     "output_type": "stream",
     "text": [
      "0   2001-05-14 23:39:00+00:00\n",
      "Name: Date, dtype: datetime64[ns, UTC]\n"
     ]
    }
   ],
   "source": [
    "# Convert date column to datetime \n",
    "\n",
    "df_email[\"Date\"] = pd.to_datetime(df_email[\"Date\"])\n",
    "\n",
    "print(df_email.iloc[:1][\"Date\"])"
   ]
  },
  {
   "cell_type": "markdown",
   "metadata": {},
   "source": [
    "A sample of randomly selected folders from a newly created folders dataframe shows that there were multiple unique folders used by employees."
   ]
  },
  {
   "cell_type": "code",
   "execution_count": 7,
   "metadata": {},
   "outputs": [
    {
     "data": {
      "text/plain": [
       "75114                       \\Jeff_Dasovich_June2001\\Notes Folders\\Notes inbox\n",
       "302828                          \\Kay_Mann_June2001_4\\Notes Folders\\'sent mail\n",
       "369714                                        \\ExMerge - Richey, Cooper\\Inbox\n",
       "345896           \\Gerald_Nemec_Dec2000_June2001_2\\Notes Folders\\All documents\n",
       "295055                                     \\PLOVE (Non-Privileged)\\Sent Items\n",
       "295454                    \\PLOVE (Non-Privileged)\\Love, Phillip M.\\Sent Items\n",
       "317595    \\Kay_Mann_June2001_3\\Notes Folders\\Off balance sheet_form contracts\n",
       "Name: X-Folder, dtype: object"
      ]
     },
     "execution_count": 7,
     "metadata": {},
     "output_type": "execute_result"
    }
   ],
   "source": [
    "df_email[\"X-Folder\"].sample(7)"
   ]
  },
  {
   "cell_type": "code",
   "execution_count": 8,
   "metadata": {},
   "outputs": [
    {
     "data": {
      "image/png": "[encoded data removed]",
      "text/plain": [
       "<Figure size 648x720 with 1 Axes>"
      ]
     },
     "metadata": {
      "needs_background": "light"
     },
     "output_type": "display_data"
    }
   ],
   "source": [
    "import seaborn as sns\n",
    "import matplotlib.pyplot as plt\n",
    "%matplotlib inline\n",
    "\n",
    "# dataframe containing counts of every word in the emails dataframe\n",
    "email_count = df_email[\"X-Folder\"].value_counts()\n",
    "indices = email_count.index\n",
    "count = pd.DataFrame(email_count, columns = [\"X-Folder\"])\n",
    "count[\"Folder Names\"] = indices\n",
    "#print count.head()\n",
    "\n",
    "def barplot(df, X, Y, figsize, color, orient, ylabel, xlabel, font_scale, rotation):\n",
    "    f, ax = plt.subplots(figsize=figsize)\n",
    "    sns.set_color_codes(\"muted\")\n",
    "    sns.barplot(x = X, y = Y, data = df, color = color, orient = orient)\n",
    "    ax.set(ylabel = ylabel, xlabel = xlabel)\n",
    "    sns.set(font_scale = font_scale)\n",
    "    plt.xticks(rotation = rotation) \n",
    "    plt.show()\n",
    "    \n",
    "barplot(df = count[:40], X = \"X-Folder\", Y = \"Folder Names\", figsize = (9, 10), color = 'b', orient = 'h', ylabel = \"Folders\", xlabel = \"Count\", font_scale = 1.2, rotation = 90)\n"
   ]
  },
  {
   "cell_type": "code",
   "execution_count": 9,
   "metadata": {},
   "outputs": [
    {
     "data": {
      "image/png": "[encoded data removed]",
      "text/plain": [
       "<Figure size 720x720 with 1 Axes>"
      ]
     },
     "metadata": {},
     "output_type": "display_data"
    }
   ],
   "source": [
    "# Bar graph showing 40 employees who had the highest number of sent e-mails\n",
    "\n",
    "mail_count = df_email[\"employee\"].value_counts()\n",
    "\n",
    "indices = mail_count.index\n",
    "\n",
    "count = pd.DataFrame(mail_count)\n",
    "\n",
    "count.rename(columns = {\"employee\": \"Count\"}, inplace = True)\n",
    "\n",
    "count[\"Employees\"] = indices\n",
    "\n",
    "barplot(df = count[:40], X = \"Count\", Y = \"Employees\", figsize = (10, 10), color = 'b', orient = 'h', ylabel = \"Employees\", xlabel = \"Count\", font_scale = .8, rotation = 90)"
   ]
  },
  {
   "cell_type": "markdown",
   "metadata": {},
   "source": [
    "\n",
    "The `X-Folder` column contains several folders and subfolders that are not needed.\n",
    "* all_documents\n",
    "* discussion_threads\n",
    "* sent\n",
    "* inbox\n",
    "* sent_items\n",
    "* notes_inbox\n",
    "* _sent_mail\n",
    "* calendar"
   ]
  },
  {
   "cell_type": "code",
   "execution_count": 10,
   "metadata": {},
   "outputs": [
    {
     "name": "stderr",
     "output_type": "stream",
     "text": [
      "<>:4: SyntaxWarning: \"is\" with a literal. Did you mean \"==\"?\n",
      "<>:4: SyntaxWarning: \"is\" with a literal. Did you mean \"==\"?\n",
      "<ipython-input-10-68ad560b9e2d>:4: SyntaxWarning: \"is\" with a literal. Did you mean \"==\"?\n",
      "  if item is None or item is '':\n"
     ]
    },
    {
     "name": "stdout",
     "output_type": "stream",
     "text": [
      "Folder cleaned!\n"
     ]
    }
   ],
   "source": [
    "def preprocess_folder(data):   \n",
    "    folders = []\n",
    "    for item in data:\n",
    "        if item is None or item is '':\n",
    "            folders.append(np.nan)\n",
    "        else:\n",
    "            item = str(item).split('\\\\')[-1]\n",
    "            item = item.lower()\n",
    "            folders.append(item)\n",
    "    print(\"Folder cleaned!\")\n",
    "    return folders\n",
    "\n",
    "\n",
    "df_email[\"X-Folder\"] = preprocess_folder(df_email[\"X-Folder\"])"
   ]
  },
  {
   "cell_type": "code",
   "execution_count": 11,
   "metadata": {},
   "outputs": [
    {
     "name": "stdout",
     "output_type": "stream",
     "text": [
      "deleted items    13\n",
      "contacts          2\n",
      "Name: X-Folder, dtype: int64\n"
     ]
    }
   ],
   "source": [
    "# Folders we can filter out\n",
    "unwanted_folders = [\"all documents\", \"discussion threads\", \"sent\",\"inbox\",\n",
    "                   \"sent items\", \"'sent mail\", \"untitled\", \"notes inbox\", \"junk file\", \"calendar\"]\n",
    "\n",
    "# A new dataframe without non-topical folders\n",
    "df_folder = df_email.loc[~df_email['X-Folder'].isin(unwanted_folders)]\n",
    "\n",
    "print(df_folder.iloc[:15][\"X-Folder\"].value_counts())"
   ]
  },
  {
   "cell_type": "code",
   "execution_count": 12,
   "metadata": {},
   "outputs": [
    {
     "data": {
      "text/plain": [
       "deleted items       50987\n",
       "personal             2642\n",
       "attachments          2026\n",
       "meetings             1872\n",
       "schedule crawler     1398\n",
       "                    ...  \n",
       "miscellaneous           1\n",
       "lavorato, john          1\n",
       "cooper cameron          1\n",
       "ecr                     1\n",
       "water                   1\n",
       "Name: X-Folder, Length: 1772, dtype: int64"
      ]
     },
     "execution_count": 12,
     "metadata": {},
     "output_type": "execute_result"
    }
   ],
   "source": [
    "df_folder['X-Folder'].value_counts()"
   ]
  },
  {
   "cell_type": "code",
   "execution_count": 13,
   "metadata": {},
   "outputs": [
    {
     "data": {
      "text/html": [
       "<div>\n",
       "<style scoped>\n",
       "    .dataframe tbody tr th:only-of-type {\n",
       "        vertical-align: middle;\n",
       "    }\n",
       "\n",
       "    .dataframe tbody tr th {\n",
       "        vertical-align: top;\n",
       "    }\n",
       "\n",
       "    .dataframe thead th {\n",
       "        text-align: right;\n",
       "    }\n",
       "</style>\n",
       "<table border=\"1\" class=\"dataframe\">\n",
       "  <thead>\n",
       "    <tr style=\"text-align: right;\">\n",
       "      <th></th>\n",
       "      <th>Message-Body</th>\n",
       "      <th>X-From</th>\n",
       "      <th>employee</th>\n",
       "      <th>Date</th>\n",
       "      <th>Subject</th>\n",
       "      <th>X-To</th>\n",
       "      <th>X-cc</th>\n",
       "      <th>X-Origin</th>\n",
       "      <th>email-body</th>\n",
       "    </tr>\n",
       "    <tr>\n",
       "      <th>X-Folder</th>\n",
       "      <th></th>\n",
       "      <th></th>\n",
       "      <th></th>\n",
       "      <th></th>\n",
       "      <th></th>\n",
       "      <th></th>\n",
       "      <th></th>\n",
       "      <th></th>\n",
       "      <th></th>\n",
       "    </tr>\n",
       "  </thead>\n",
       "  <tbody>\n",
       "    <tr>\n",
       "      <th>deleted items</th>\n",
       "      <td>50987</td>\n",
       "      <td>50987</td>\n",
       "      <td>50987</td>\n",
       "      <td>50987</td>\n",
       "      <td>49720</td>\n",
       "      <td>50389</td>\n",
       "      <td>9284</td>\n",
       "      <td>50987</td>\n",
       "      <td>50987</td>\n",
       "    </tr>\n",
       "    <tr>\n",
       "      <th>personal</th>\n",
       "      <td>2642</td>\n",
       "      <td>2642</td>\n",
       "      <td>2642</td>\n",
       "      <td>2642</td>\n",
       "      <td>2510</td>\n",
       "      <td>2616</td>\n",
       "      <td>280</td>\n",
       "      <td>2642</td>\n",
       "      <td>2642</td>\n",
       "    </tr>\n",
       "    <tr>\n",
       "      <th>attachments</th>\n",
       "      <td>2026</td>\n",
       "      <td>2026</td>\n",
       "      <td>2026</td>\n",
       "      <td>2026</td>\n",
       "      <td>1969</td>\n",
       "      <td>2003</td>\n",
       "      <td>725</td>\n",
       "      <td>2026</td>\n",
       "      <td>2026</td>\n",
       "    </tr>\n",
       "    <tr>\n",
       "      <th>meetings</th>\n",
       "      <td>1872</td>\n",
       "      <td>1872</td>\n",
       "      <td>1872</td>\n",
       "      <td>1872</td>\n",
       "      <td>1833</td>\n",
       "      <td>49</td>\n",
       "      <td>10</td>\n",
       "      <td>1872</td>\n",
       "      <td>1872</td>\n",
       "    </tr>\n",
       "    <tr>\n",
       "      <th>schedule crawler</th>\n",
       "      <td>1398</td>\n",
       "      <td>1398</td>\n",
       "      <td>1398</td>\n",
       "      <td>1398</td>\n",
       "      <td>1396</td>\n",
       "      <td>1398</td>\n",
       "      <td>1391</td>\n",
       "      <td>1398</td>\n",
       "      <td>1398</td>\n",
       "    </tr>\n",
       "    <tr>\n",
       "      <th>logistics</th>\n",
       "      <td>1192</td>\n",
       "      <td>1192</td>\n",
       "      <td>1192</td>\n",
       "      <td>1192</td>\n",
       "      <td>1171</td>\n",
       "      <td>1191</td>\n",
       "      <td>636</td>\n",
       "      <td>1192</td>\n",
       "      <td>1192</td>\n",
       "    </tr>\n",
       "    <tr>\n",
       "      <th>tw-commercial group</th>\n",
       "      <td>1159</td>\n",
       "      <td>1159</td>\n",
       "      <td>1159</td>\n",
       "      <td>1159</td>\n",
       "      <td>1154</td>\n",
       "      <td>1155</td>\n",
       "      <td>468</td>\n",
       "      <td>1159</td>\n",
       "      <td>1159</td>\n",
       "    </tr>\n",
       "    <tr>\n",
       "      <th>california</th>\n",
       "      <td>1052</td>\n",
       "      <td>1052</td>\n",
       "      <td>1052</td>\n",
       "      <td>1052</td>\n",
       "      <td>1028</td>\n",
       "      <td>1038</td>\n",
       "      <td>290</td>\n",
       "      <td>1052</td>\n",
       "      <td>1052</td>\n",
       "    </tr>\n",
       "    <tr>\n",
       "      <th>bill williams iii</th>\n",
       "      <td>1022</td>\n",
       "      <td>1022</td>\n",
       "      <td>1022</td>\n",
       "      <td>1022</td>\n",
       "      <td>1005</td>\n",
       "      <td>1021</td>\n",
       "      <td>323</td>\n",
       "      <td>1022</td>\n",
       "      <td>1022</td>\n",
       "    </tr>\n",
       "    <tr>\n",
       "      <th>deal discrepancies</th>\n",
       "      <td>897</td>\n",
       "      <td>897</td>\n",
       "      <td>897</td>\n",
       "      <td>897</td>\n",
       "      <td>884</td>\n",
       "      <td>891</td>\n",
       "      <td>85</td>\n",
       "      <td>897</td>\n",
       "      <td>897</td>\n",
       "    </tr>\n",
       "    <tr>\n",
       "      <th>management</th>\n",
       "      <td>802</td>\n",
       "      <td>802</td>\n",
       "      <td>802</td>\n",
       "      <td>802</td>\n",
       "      <td>799</td>\n",
       "      <td>802</td>\n",
       "      <td>458</td>\n",
       "      <td>802</td>\n",
       "      <td>802</td>\n",
       "    </tr>\n",
       "    <tr>\n",
       "      <th>esvl</th>\n",
       "      <td>715</td>\n",
       "      <td>715</td>\n",
       "      <td>715</td>\n",
       "      <td>715</td>\n",
       "      <td>684</td>\n",
       "      <td>694</td>\n",
       "      <td>242</td>\n",
       "      <td>715</td>\n",
       "      <td>715</td>\n",
       "    </tr>\n",
       "    <tr>\n",
       "      <th>e-mail bin</th>\n",
       "      <td>614</td>\n",
       "      <td>614</td>\n",
       "      <td>614</td>\n",
       "      <td>614</td>\n",
       "      <td>609</td>\n",
       "      <td>597</td>\n",
       "      <td>154</td>\n",
       "      <td>614</td>\n",
       "      <td>614</td>\n",
       "    </tr>\n",
       "    <tr>\n",
       "      <th>resumes</th>\n",
       "      <td>609</td>\n",
       "      <td>609</td>\n",
       "      <td>609</td>\n",
       "      <td>609</td>\n",
       "      <td>601</td>\n",
       "      <td>607</td>\n",
       "      <td>313</td>\n",
       "      <td>609</td>\n",
       "      <td>609</td>\n",
       "    </tr>\n",
       "    <tr>\n",
       "      <th>tufco</th>\n",
       "      <td>609</td>\n",
       "      <td>609</td>\n",
       "      <td>609</td>\n",
       "      <td>609</td>\n",
       "      <td>604</td>\n",
       "      <td>609</td>\n",
       "      <td>68</td>\n",
       "      <td>609</td>\n",
       "      <td>609</td>\n",
       "    </tr>\n",
       "    <tr>\n",
       "      <th>ces</th>\n",
       "      <td>576</td>\n",
       "      <td>576</td>\n",
       "      <td>576</td>\n",
       "      <td>576</td>\n",
       "      <td>572</td>\n",
       "      <td>576</td>\n",
       "      <td>288</td>\n",
       "      <td>576</td>\n",
       "      <td>576</td>\n",
       "    </tr>\n",
       "    <tr>\n",
       "      <th>online trading</th>\n",
       "      <td>573</td>\n",
       "      <td>573</td>\n",
       "      <td>573</td>\n",
       "      <td>573</td>\n",
       "      <td>567</td>\n",
       "      <td>573</td>\n",
       "      <td>340</td>\n",
       "      <td>573</td>\n",
       "      <td>573</td>\n",
       "    </tr>\n",
       "    <tr>\n",
       "      <th>junk</th>\n",
       "      <td>560</td>\n",
       "      <td>560</td>\n",
       "      <td>560</td>\n",
       "      <td>560</td>\n",
       "      <td>553</td>\n",
       "      <td>551</td>\n",
       "      <td>199</td>\n",
       "      <td>560</td>\n",
       "      <td>560</td>\n",
       "    </tr>\n",
       "    <tr>\n",
       "      <th>ooc</th>\n",
       "      <td>511</td>\n",
       "      <td>511</td>\n",
       "      <td>511</td>\n",
       "      <td>511</td>\n",
       "      <td>491</td>\n",
       "      <td>493</td>\n",
       "      <td>149</td>\n",
       "      <td>511</td>\n",
       "      <td>511</td>\n",
       "    </tr>\n",
       "    <tr>\n",
       "      <th>genco-jv_ipo</th>\n",
       "      <td>486</td>\n",
       "      <td>486</td>\n",
       "      <td>486</td>\n",
       "      <td>486</td>\n",
       "      <td>465</td>\n",
       "      <td>486</td>\n",
       "      <td>195</td>\n",
       "      <td>486</td>\n",
       "      <td>486</td>\n",
       "    </tr>\n",
       "    <tr>\n",
       "      <th>projects</th>\n",
       "      <td>468</td>\n",
       "      <td>468</td>\n",
       "      <td>468</td>\n",
       "      <td>468</td>\n",
       "      <td>461</td>\n",
       "      <td>466</td>\n",
       "      <td>329</td>\n",
       "      <td>468</td>\n",
       "      <td>468</td>\n",
       "    </tr>\n",
       "    <tr>\n",
       "      <th>archives</th>\n",
       "      <td>448</td>\n",
       "      <td>448</td>\n",
       "      <td>448</td>\n",
       "      <td>448</td>\n",
       "      <td>435</td>\n",
       "      <td>432</td>\n",
       "      <td>108</td>\n",
       "      <td>448</td>\n",
       "      <td>448</td>\n",
       "    </tr>\n",
       "    <tr>\n",
       "      <th>contacts</th>\n",
       "      <td>437</td>\n",
       "      <td>437</td>\n",
       "      <td>437</td>\n",
       "      <td>437</td>\n",
       "      <td>437</td>\n",
       "      <td>1</td>\n",
       "      <td>0</td>\n",
       "      <td>437</td>\n",
       "      <td>437</td>\n",
       "    </tr>\n",
       "    <tr>\n",
       "      <th>corporate</th>\n",
       "      <td>421</td>\n",
       "      <td>421</td>\n",
       "      <td>421</td>\n",
       "      <td>421</td>\n",
       "      <td>421</td>\n",
       "      <td>420</td>\n",
       "      <td>4</td>\n",
       "      <td>421</td>\n",
       "      <td>421</td>\n",
       "    </tr>\n",
       "    <tr>\n",
       "      <th>hr</th>\n",
       "      <td>402</td>\n",
       "      <td>402</td>\n",
       "      <td>402</td>\n",
       "      <td>402</td>\n",
       "      <td>392</td>\n",
       "      <td>399</td>\n",
       "      <td>155</td>\n",
       "      <td>402</td>\n",
       "      <td>402</td>\n",
       "    </tr>\n",
       "    <tr>\n",
       "      <th>it</th>\n",
       "      <td>369</td>\n",
       "      <td>369</td>\n",
       "      <td>369</td>\n",
       "      <td>369</td>\n",
       "      <td>365</td>\n",
       "      <td>362</td>\n",
       "      <td>147</td>\n",
       "      <td>369</td>\n",
       "      <td>369</td>\n",
       "    </tr>\n",
       "    <tr>\n",
       "      <th>universities</th>\n",
       "      <td>367</td>\n",
       "      <td>367</td>\n",
       "      <td>367</td>\n",
       "      <td>367</td>\n",
       "      <td>359</td>\n",
       "      <td>367</td>\n",
       "      <td>219</td>\n",
       "      <td>367</td>\n",
       "      <td>367</td>\n",
       "    </tr>\n",
       "    <tr>\n",
       "      <th>iso_ pricecaps</th>\n",
       "      <td>359</td>\n",
       "      <td>359</td>\n",
       "      <td>359</td>\n",
       "      <td>359</td>\n",
       "      <td>357</td>\n",
       "      <td>359</td>\n",
       "      <td>119</td>\n",
       "      <td>359</td>\n",
       "      <td>359</td>\n",
       "    </tr>\n",
       "    <tr>\n",
       "      <th>connect deletes</th>\n",
       "      <td>350</td>\n",
       "      <td>350</td>\n",
       "      <td>350</td>\n",
       "      <td>350</td>\n",
       "      <td>344</td>\n",
       "      <td>332</td>\n",
       "      <td>145</td>\n",
       "      <td>350</td>\n",
       "      <td>350</td>\n",
       "    </tr>\n",
       "    <tr>\n",
       "      <th>wellhead</th>\n",
       "      <td>339</td>\n",
       "      <td>339</td>\n",
       "      <td>339</td>\n",
       "      <td>339</td>\n",
       "      <td>335</td>\n",
       "      <td>339</td>\n",
       "      <td>178</td>\n",
       "      <td>339</td>\n",
       "      <td>339</td>\n",
       "    </tr>\n",
       "    <tr>\n",
       "      <th>to do</th>\n",
       "      <td>332</td>\n",
       "      <td>332</td>\n",
       "      <td>332</td>\n",
       "      <td>332</td>\n",
       "      <td>330</td>\n",
       "      <td>50</td>\n",
       "      <td>19</td>\n",
       "      <td>332</td>\n",
       "      <td>332</td>\n",
       "    </tr>\n",
       "    <tr>\n",
       "      <th>read</th>\n",
       "      <td>318</td>\n",
       "      <td>318</td>\n",
       "      <td>318</td>\n",
       "      <td>318</td>\n",
       "      <td>317</td>\n",
       "      <td>317</td>\n",
       "      <td>48</td>\n",
       "      <td>318</td>\n",
       "      <td>318</td>\n",
       "    </tr>\n",
       "    <tr>\n",
       "      <th>california issues</th>\n",
       "      <td>317</td>\n",
       "      <td>317</td>\n",
       "      <td>317</td>\n",
       "      <td>317</td>\n",
       "      <td>311</td>\n",
       "      <td>317</td>\n",
       "      <td>111</td>\n",
       "      <td>317</td>\n",
       "      <td>317</td>\n",
       "    </tr>\n",
       "    <tr>\n",
       "      <th>eesirenewableenergy</th>\n",
       "      <td>296</td>\n",
       "      <td>296</td>\n",
       "      <td>296</td>\n",
       "      <td>296</td>\n",
       "      <td>287</td>\n",
       "      <td>295</td>\n",
       "      <td>108</td>\n",
       "      <td>296</td>\n",
       "      <td>296</td>\n",
       "    </tr>\n",
       "    <tr>\n",
       "      <th>europe</th>\n",
       "      <td>295</td>\n",
       "      <td>295</td>\n",
       "      <td>295</td>\n",
       "      <td>295</td>\n",
       "      <td>289</td>\n",
       "      <td>294</td>\n",
       "      <td>155</td>\n",
       "      <td>295</td>\n",
       "      <td>295</td>\n",
       "    </tr>\n",
       "    <tr>\n",
       "      <th>ferc</th>\n",
       "      <td>277</td>\n",
       "      <td>277</td>\n",
       "      <td>277</td>\n",
       "      <td>277</td>\n",
       "      <td>272</td>\n",
       "      <td>275</td>\n",
       "      <td>101</td>\n",
       "      <td>277</td>\n",
       "      <td>277</td>\n",
       "    </tr>\n",
       "    <tr>\n",
       "      <th>info</th>\n",
       "      <td>277</td>\n",
       "      <td>277</td>\n",
       "      <td>277</td>\n",
       "      <td>277</td>\n",
       "      <td>271</td>\n",
       "      <td>277</td>\n",
       "      <td>15</td>\n",
       "      <td>277</td>\n",
       "      <td>277</td>\n",
       "    </tr>\n",
       "    <tr>\n",
       "      <th>eol</th>\n",
       "      <td>274</td>\n",
       "      <td>274</td>\n",
       "      <td>274</td>\n",
       "      <td>274</td>\n",
       "      <td>265</td>\n",
       "      <td>273</td>\n",
       "      <td>98</td>\n",
       "      <td>274</td>\n",
       "      <td>274</td>\n",
       "    </tr>\n",
       "    <tr>\n",
       "      <th>ene_ect</th>\n",
       "      <td>270</td>\n",
       "      <td>270</td>\n",
       "      <td>270</td>\n",
       "      <td>270</td>\n",
       "      <td>268</td>\n",
       "      <td>269</td>\n",
       "      <td>118</td>\n",
       "      <td>270</td>\n",
       "      <td>270</td>\n",
       "    </tr>\n",
       "    <tr>\n",
       "      <th>regulatory</th>\n",
       "      <td>268</td>\n",
       "      <td>268</td>\n",
       "      <td>268</td>\n",
       "      <td>268</td>\n",
       "      <td>266</td>\n",
       "      <td>262</td>\n",
       "      <td>124</td>\n",
       "      <td>268</td>\n",
       "      <td>268</td>\n",
       "    </tr>\n",
       "    <tr>\n",
       "      <th>'sent</th>\n",
       "      <td>265</td>\n",
       "      <td>265</td>\n",
       "      <td>265</td>\n",
       "      <td>265</td>\n",
       "      <td>264</td>\n",
       "      <td>265</td>\n",
       "      <td>39</td>\n",
       "      <td>265</td>\n",
       "      <td>265</td>\n",
       "    </tr>\n",
       "    <tr>\n",
       "      <th>articles</th>\n",
       "      <td>263</td>\n",
       "      <td>263</td>\n",
       "      <td>263</td>\n",
       "      <td>263</td>\n",
       "      <td>258</td>\n",
       "      <td>263</td>\n",
       "      <td>7</td>\n",
       "      <td>263</td>\n",
       "      <td>263</td>\n",
       "    </tr>\n",
       "    <tr>\n",
       "      <th>nelson</th>\n",
       "      <td>259</td>\n",
       "      <td>259</td>\n",
       "      <td>259</td>\n",
       "      <td>259</td>\n",
       "      <td>256</td>\n",
       "      <td>259</td>\n",
       "      <td>133</td>\n",
       "      <td>259</td>\n",
       "      <td>259</td>\n",
       "    </tr>\n",
       "    <tr>\n",
       "      <th>enron news</th>\n",
       "      <td>258</td>\n",
       "      <td>258</td>\n",
       "      <td>258</td>\n",
       "      <td>258</td>\n",
       "      <td>255</td>\n",
       "      <td>250</td>\n",
       "      <td>32</td>\n",
       "      <td>258</td>\n",
       "      <td>258</td>\n",
       "    </tr>\n",
       "    <tr>\n",
       "      <th>east power</th>\n",
       "      <td>257</td>\n",
       "      <td>257</td>\n",
       "      <td>257</td>\n",
       "      <td>257</td>\n",
       "      <td>255</td>\n",
       "      <td>256</td>\n",
       "      <td>99</td>\n",
       "      <td>257</td>\n",
       "      <td>257</td>\n",
       "    </tr>\n",
       "    <tr>\n",
       "      <th>corporate comm</th>\n",
       "      <td>254</td>\n",
       "      <td>254</td>\n",
       "      <td>254</td>\n",
       "      <td>254</td>\n",
       "      <td>253</td>\n",
       "      <td>253</td>\n",
       "      <td>31</td>\n",
       "      <td>254</td>\n",
       "      <td>254</td>\n",
       "    </tr>\n",
       "    <tr>\n",
       "      <th>gir</th>\n",
       "      <td>250</td>\n",
       "      <td>250</td>\n",
       "      <td>250</td>\n",
       "      <td>250</td>\n",
       "      <td>250</td>\n",
       "      <td>250</td>\n",
       "      <td>128</td>\n",
       "      <td>250</td>\n",
       "      <td>250</td>\n",
       "    </tr>\n",
       "    <tr>\n",
       "      <th>eci</th>\n",
       "      <td>249</td>\n",
       "      <td>249</td>\n",
       "      <td>249</td>\n",
       "      <td>249</td>\n",
       "      <td>248</td>\n",
       "      <td>249</td>\n",
       "      <td>132</td>\n",
       "      <td>249</td>\n",
       "      <td>249</td>\n",
       "    </tr>\n",
       "    <tr>\n",
       "      <th>misc</th>\n",
       "      <td>246</td>\n",
       "      <td>246</td>\n",
       "      <td>246</td>\n",
       "      <td>246</td>\n",
       "      <td>242</td>\n",
       "      <td>244</td>\n",
       "      <td>55</td>\n",
       "      <td>246</td>\n",
       "      <td>246</td>\n",
       "    </tr>\n",
       "    <tr>\n",
       "      <th>heat wave</th>\n",
       "      <td>244</td>\n",
       "      <td>244</td>\n",
       "      <td>244</td>\n",
       "      <td>244</td>\n",
       "      <td>243</td>\n",
       "      <td>239</td>\n",
       "      <td>87</td>\n",
       "      <td>244</td>\n",
       "      <td>244</td>\n",
       "    </tr>\n",
       "  </tbody>\n",
       "</table>\n",
       "</div>"
      ],
      "text/plain": [
       "                     Message-Body  X-From  employee   Date  Subject   X-To  \\\n",
       "X-Folder                                                                     \n",
       "deleted items               50987   50987     50987  50987    49720  50389   \n",
       "personal                     2642    2642      2642   2642     2510   2616   \n",
       "attachments                  2026    2026      2026   2026     1969   2003   \n",
       "meetings                     1872    1872      1872   1872     1833     49   \n",
       "schedule crawler             1398    1398      1398   1398     1396   1398   \n",
       "logistics                    1192    1192      1192   1192     1171   1191   \n",
       "tw-commercial group          1159    1159      1159   1159     1154   1155   \n",
       "california                   1052    1052      1052   1052     1028   1038   \n",
       "bill williams iii            1022    1022      1022   1022     1005   1021   \n",
       "deal discrepancies            897     897       897    897      884    891   \n",
       "management                    802     802       802    802      799    802   \n",
       "esvl                          715     715       715    715      684    694   \n",
       "e-mail bin                    614     614       614    614      609    597   \n",
       "resumes                       609     609       609    609      601    607   \n",
       "tufco                         609     609       609    609      604    609   \n",
       "ces                           576     576       576    576      572    576   \n",
       "online trading                573     573       573    573      567    573   \n",
       "junk                          560     560       560    560      553    551   \n",
       "ooc                           511     511       511    511      491    493   \n",
       "genco-jv_ipo                  486     486       486    486      465    486   \n",
       "projects                      468     468       468    468      461    466   \n",
       "archives                      448     448       448    448      435    432   \n",
       "contacts                      437     437       437    437      437      1   \n",
       "corporate                     421     421       421    421      421    420   \n",
       "hr                            402     402       402    402      392    399   \n",
       "it                            369     369       369    369      365    362   \n",
       "universities                  367     367       367    367      359    367   \n",
       "iso_ pricecaps                359     359       359    359      357    359   \n",
       "connect deletes               350     350       350    350      344    332   \n",
       "wellhead                      339     339       339    339      335    339   \n",
       "to do                         332     332       332    332      330     50   \n",
       "read                          318     318       318    318      317    317   \n",
       "california issues             317     317       317    317      311    317   \n",
       "eesirenewableenergy           296     296       296    296      287    295   \n",
       "europe                        295     295       295    295      289    294   \n",
       "ferc                          277     277       277    277      272    275   \n",
       "info                          277     277       277    277      271    277   \n",
       "eol                           274     274       274    274      265    273   \n",
       "ene_ect                       270     270       270    270      268    269   \n",
       "regulatory                    268     268       268    268      266    262   \n",
       "'sent                         265     265       265    265      264    265   \n",
       "articles                      263     263       263    263      258    263   \n",
       "nelson                        259     259       259    259      256    259   \n",
       "enron news                    258     258       258    258      255    250   \n",
       "east power                    257     257       257    257      255    256   \n",
       "corporate comm                254     254       254    254      253    253   \n",
       "gir                           250     250       250    250      250    250   \n",
       "eci                           249     249       249    249      248    249   \n",
       "misc                          246     246       246    246      242    244   \n",
       "heat wave                     244     244       244    244      243    239   \n",
       "\n",
       "                     X-cc  X-Origin  email-body  \n",
       "X-Folder                                         \n",
       "deleted items        9284     50987       50987  \n",
       "personal              280      2642        2642  \n",
       "attachments           725      2026        2026  \n",
       "meetings               10      1872        1872  \n",
       "schedule crawler     1391      1398        1398  \n",
       "logistics             636      1192        1192  \n",
       "tw-commercial group   468      1159        1159  \n",
       "california            290      1052        1052  \n",
       "bill williams iii     323      1022        1022  \n",
       "deal discrepancies     85       897         897  \n",
       "management            458       802         802  \n",
       "esvl                  242       715         715  \n",
       "e-mail bin            154       614         614  \n",
       "resumes               313       609         609  \n",
       "tufco                  68       609         609  \n",
       "ces                   288       576         576  \n",
       "online trading        340       573         573  \n",
       "junk                  199       560         560  \n",
       "ooc                   149       511         511  \n",
       "genco-jv_ipo          195       486         486  \n",
       "projects              329       468         468  \n",
       "archives              108       448         448  \n",
       "contacts                0       437         437  \n",
       "corporate               4       421         421  \n",
       "hr                    155       402         402  \n",
       "it                    147       369         369  \n",
       "universities          219       367         367  \n",
       "iso_ pricecaps        119       359         359  \n",
       "connect deletes       145       350         350  \n",
       "wellhead              178       339         339  \n",
       "to do                  19       332         332  \n",
       "read                   48       318         318  \n",
       "california issues     111       317         317  \n",
       "eesirenewableenergy   108       296         296  \n",
       "europe                155       295         295  \n",
       "ferc                  101       277         277  \n",
       "info                   15       277         277  \n",
       "eol                    98       274         274  \n",
       "ene_ect               118       270         270  \n",
       "regulatory            124       268         268  \n",
       "'sent                  39       265         265  \n",
       "articles                7       263         263  \n",
       "nelson                133       259         259  \n",
       "enron news             32       258         258  \n",
       "east power             99       257         257  \n",
       "corporate comm         31       254         254  \n",
       "gir                   128       250         250  \n",
       "eci                   132       249         249  \n",
       "misc                   55       246         246  \n",
       "heat wave              87       244         244  "
      ]
     },
     "execution_count": 13,
     "metadata": {},
     "output_type": "execute_result"
    }
   ],
   "source": [
    "df_folder.groupby('X-Folder').count().sort_values(by= 'email-body', ascending=False).head(50)"
   ]
  },
  {
   "cell_type": "markdown",
   "metadata": {},
   "source": [
    "## Department of interest"
   ]
  },
  {
   "cell_type": "code",
   "execution_count": 14,
   "metadata": {},
   "outputs": [
    {
     "data": {
      "text/plain": [
       "'regulatory'"
      ]
     },
     "execution_count": 14,
     "metadata": {},
     "output_type": "execute_result"
    }
   ],
   "source": [
    "hr = df_folder.loc[df_folder['X-Folder'] == 'regulatory']\n",
    "\n",
    "###Some options:\n",
    "\n",
    "'online trading'\n",
    "'hr'\n",
    "'management'\n",
    "'logistics'\n",
    "'universities'\n",
    "'deal discrepancies'\n",
    "'it'\n",
    "'meetings'\n",
    "'projects'\n",
    "'europe'\n",
    "'enron news'\n",
    "'regulatory'"
   ]
  },
  {
   "cell_type": "code",
   "execution_count": 15,
   "metadata": {},
   "outputs": [
    {
     "data": {
      "text/plain": [
       "Message-Body    268\n",
       "X-From          268\n",
       "employee        268\n",
       "Date            268\n",
       "Subject         266\n",
       "X-Folder        268\n",
       "X-To            262\n",
       "X-cc            124\n",
       "X-Origin        268\n",
       "email-body      268\n",
       "dtype: int64"
      ]
     },
     "execution_count": 15,
     "metadata": {},
     "output_type": "execute_result"
    }
   ],
   "source": [
    "hr.count()"
   ]
  },
  {
   "cell_type": "code",
   "execution_count": 16,
   "metadata": {},
   "outputs": [
    {
     "data": {
      "text/html": [
       "<div>\n",
       "<style scoped>\n",
       "    .dataframe tbody tr th:only-of-type {\n",
       "        vertical-align: middle;\n",
       "    }\n",
       "\n",
       "    .dataframe tbody tr th {\n",
       "        vertical-align: top;\n",
       "    }\n",
       "\n",
       "    .dataframe thead th {\n",
       "        text-align: right;\n",
       "    }\n",
       "</style>\n",
       "<table border=\"1\" class=\"dataframe\">\n",
       "  <thead>\n",
       "    <tr style=\"text-align: right;\">\n",
       "      <th></th>\n",
       "      <th>Message-Body</th>\n",
       "      <th>X-From</th>\n",
       "      <th>employee</th>\n",
       "      <th>Date</th>\n",
       "      <th>Subject</th>\n",
       "      <th>X-Folder</th>\n",
       "      <th>X-To</th>\n",
       "      <th>X-cc</th>\n",
       "      <th>X-Origin</th>\n",
       "      <th>email-body</th>\n",
       "    </tr>\n",
       "  </thead>\n",
       "  <tbody>\n",
       "    <tr>\n",
       "      <th>248536</th>\n",
       "      <td>fyi\\n---------------------- forwarded by richard shapiro/na/enron on 05/21/2001 \\n05:26 pm -----...</td>\n",
       "      <td>Richard Shapiro</td>\n",
       "      <td>kean-s</td>\n",
       "      <td>2001-05-21 17:26:00+00:00</td>\n",
       "      <td>Revised Electricity Emergency Authorities Memo</td>\n",
       "      <td>federal emergency</td>\n",
       "      <td>Steven J Kean</td>\n",
       "      <td>NaN</td>\n",
       "      <td>KEAN-S</td>\n",
       "      <td>FYI ---------------------- Forwarded by Richard Shapiro/NA/Enron on 05/21/2001 05:26 PM -------...</td>\n",
       "    </tr>\n",
       "  </tbody>\n",
       "</table>\n",
       "</div>"
      ],
      "text/plain": [
       "                                                                                               Message-Body  \\\n",
       "248536  fyi\\n---------------------- forwarded by richard shapiro/na/enron on 05/21/2001 \\n05:26 pm -----...   \n",
       "\n",
       "                 X-From employee                      Date  \\\n",
       "248536  Richard Shapiro   kean-s 2001-05-21 17:26:00+00:00   \n",
       "\n",
       "                                               Subject           X-Folder  \\\n",
       "248536  Revised Electricity Emergency Authorities Memo  federal emergency   \n",
       "\n",
       "                 X-To X-cc X-Origin  \\\n",
       "248536  Steven J Kean  NaN   KEAN-S   \n",
       "\n",
       "                                                                                                 email-body  \n",
       "248536   FYI ---------------------- Forwarded by Richard Shapiro/NA/Enron on 05/21/2001 05:26 PM -------...  "
      ]
     },
     "execution_count": 16,
     "metadata": {},
     "output_type": "execute_result"
    }
   ],
   "source": [
    "df_folder[df_folder['X-Folder'] == 'federal emergency']\n"
   ]
  },
  {
   "cell_type": "code",
   "execution_count": 17,
   "metadata": {},
   "outputs": [
    {
     "data": {
      "text/plain": [
       "Message-Body    609\n",
       "X-From          609\n",
       "employee        609\n",
       "Date            609\n",
       "Subject         601\n",
       "X-Folder        609\n",
       "X-To            607\n",
       "X-cc            313\n",
       "X-Origin        609\n",
       "email-body      609\n",
       "dtype: int64"
      ]
     },
     "execution_count": 17,
     "metadata": {},
     "output_type": "execute_result"
    }
   ],
   "source": [
    "df_folder[df_folder['X-Folder'] == 'resumes'].count()"
   ]
  },
  {
   "cell_type": "code",
   "execution_count": 18,
   "metadata": {},
   "outputs": [],
   "source": [
    "federal =  df_folder[df_folder['X-Folder'] == 'federal legislation']"
   ]
  },
  {
   "cell_type": "code",
   "execution_count": 19,
   "metadata": {},
   "outputs": [
    {
     "data": {
      "text/plain": [
       "Message-Body    88\n",
       "X-From          88\n",
       "employee        88\n",
       "Date            88\n",
       "Subject         88\n",
       "X-Folder        88\n",
       "X-To            87\n",
       "X-cc            39\n",
       "X-Origin        88\n",
       "email-body      88\n",
       "dtype: int64"
      ]
     },
     "execution_count": 19,
     "metadata": {},
     "output_type": "execute_result"
    }
   ],
   "source": [
    "federal.count()"
   ]
  },
  {
   "cell_type": "code",
   "execution_count": 20,
   "metadata": {},
   "outputs": [
    {
     "data": {
      "text/html": [
       "<div>\n",
       "<style scoped>\n",
       "    .dataframe tbody tr th:only-of-type {\n",
       "        vertical-align: middle;\n",
       "    }\n",
       "\n",
       "    .dataframe tbody tr th {\n",
       "        vertical-align: top;\n",
       "    }\n",
       "\n",
       "    .dataframe thead th {\n",
       "        text-align: right;\n",
       "    }\n",
       "</style>\n",
       "<table border=\"1\" class=\"dataframe\">\n",
       "  <thead>\n",
       "    <tr style=\"text-align: right;\">\n",
       "      <th></th>\n",
       "      <th>Message-Body</th>\n",
       "      <th>X-From</th>\n",
       "      <th>employee</th>\n",
       "      <th>Date</th>\n",
       "      <th>Subject</th>\n",
       "      <th>X-Folder</th>\n",
       "      <th>X-To</th>\n",
       "      <th>X-cc</th>\n",
       "      <th>X-Origin</th>\n",
       "      <th>email-body</th>\n",
       "    </tr>\n",
       "  </thead>\n",
       "  <tbody>\n",
       "    <tr>\n",
       "      <th>248537</th>\n",
       "      <td>craig gannet reports:\\n\\n\\n i talked to rich glick this morning about the rumored\\nadministratio...</td>\n",
       "      <td>Cynthia Sandherr</td>\n",
       "      <td>kean-s</td>\n",
       "      <td>2000-11-13 15:36:00+00:00</td>\n",
       "      <td>DOE Reliability NOI</td>\n",
       "      <td>federal legislation</td>\n",
       "      <td>Steven J Kean, Richard Shapiro, Tom Briggs</td>\n",
       "      <td>Linda Robertson, Joe Hillings, Joe Hartsoe, Sarah Novosel</td>\n",
       "      <td>KEAN-S</td>\n",
       "      <td>X-bcc: X-Folder: \\Steven_Kean_Dec2000_1\\Notes Folders\\Federal legislation X-Origin: KEAN-S X-Fil...</td>\n",
       "    </tr>\n",
       "    <tr>\n",
       "      <th>248538</th>\n",
       "      <td>this is the amendment offered per the house commerce committee's request in \\norder to allow  \"a...</td>\n",
       "      <td>Cynthia Sandherr</td>\n",
       "      <td>kean-s</td>\n",
       "      <td>2000-07-21 10:46:00+00:00</td>\n",
       "      <td>UPDATE: Commerce Staff Proposal/Bliley Certification Replacement\\n and Technical Corrections</td>\n",
       "      <td>federal legislation</td>\n",
       "      <td>Steven J Kean, Richard Shapiro, Joe Hartsoe, Joe Hillings, Tom Briggs, James D Steffes, Chris Lo...</td>\n",
       "      <td>ed@buckham.com, bpaxon@akingump.com, john.runyan@ipaper.com, aae@dellnet.com</td>\n",
       "      <td>KEAN-S</td>\n",
       "      <td>X-To: Steven J Kean, Richard Shapiro, Joe Hartsoe, Joe Hillings, Tom Briggs, James D Steffes, Ch...</td>\n",
       "    </tr>\n",
       "    <tr>\n",
       "      <th>248539</th>\n",
       "      <td>----- forwarded by cindy derecskey/corp/enron on 05/01/2001 10:53 am -----\\n\\n\\tlinda robertson\\...</td>\n",
       "      <td>Cindy Derecskey</td>\n",
       "      <td>kean-s</td>\n",
       "      <td>2001-05-01 10:53:00+00:00</td>\n",
       "      <td>Text of Dick Cheney's Toronto speech yesterday</td>\n",
       "      <td>federal legislation</td>\n",
       "      <td>Steven J Kean, Karen Denne</td>\n",
       "      <td>NaN</td>\n",
       "      <td>KEAN-S</td>\n",
       "      <td>----- Forwarded by Cindy Derecskey/Corp/Enron on 05/01/2001 10:53 AM -----  Linda Robertson 05/...</td>\n",
       "    </tr>\n",
       "  </tbody>\n",
       "</table>\n",
       "</div>"
      ],
      "text/plain": [
       "                                                                                               Message-Body  \\\n",
       "248537  craig gannet reports:\\n\\n\\n i talked to rich glick this morning about the rumored\\nadministratio...   \n",
       "248538  this is the amendment offered per the house commerce committee's request in \\norder to allow  \"a...   \n",
       "248539  ----- forwarded by cindy derecskey/corp/enron on 05/01/2001 10:53 am -----\\n\\n\\tlinda robertson\\...   \n",
       "\n",
       "                  X-From employee                      Date  \\\n",
       "248537  Cynthia Sandherr   kean-s 2000-11-13 15:36:00+00:00   \n",
       "248538  Cynthia Sandherr   kean-s 2000-07-21 10:46:00+00:00   \n",
       "248539   Cindy Derecskey   kean-s 2001-05-01 10:53:00+00:00   \n",
       "\n",
       "                                                                                             Subject  \\\n",
       "248537                                                                           DOE Reliability NOI   \n",
       "248538  UPDATE: Commerce Staff Proposal/Bliley Certification Replacement\\n and Technical Corrections   \n",
       "248539                                                Text of Dick Cheney's Toronto speech yesterday   \n",
       "\n",
       "                   X-Folder  \\\n",
       "248537  federal legislation   \n",
       "248538  federal legislation   \n",
       "248539  federal legislation   \n",
       "\n",
       "                                                                                                       X-To  \\\n",
       "248537                                                           Steven J Kean, Richard Shapiro, Tom Briggs   \n",
       "248538  Steven J Kean, Richard Shapiro, Joe Hartsoe, Joe Hillings, Tom Briggs, James D Steffes, Chris Lo...   \n",
       "248539                                                                           Steven J Kean, Karen Denne   \n",
       "\n",
       "                                                                                X-cc  \\\n",
       "248537                     Linda Robertson, Joe Hillings, Joe Hartsoe, Sarah Novosel   \n",
       "248538  ed@buckham.com, bpaxon@akingump.com, john.runyan@ipaper.com, aae@dellnet.com   \n",
       "248539                                                                           NaN   \n",
       "\n",
       "       X-Origin  \\\n",
       "248537   KEAN-S   \n",
       "248538   KEAN-S   \n",
       "248539   KEAN-S   \n",
       "\n",
       "                                                                                                 email-body  \n",
       "248537  X-bcc: X-Folder: \\Steven_Kean_Dec2000_1\\Notes Folders\\Federal legislation X-Origin: KEAN-S X-Fil...  \n",
       "248538  X-To: Steven J Kean, Richard Shapiro, Joe Hartsoe, Joe Hillings, Tom Briggs, James D Steffes, Ch...  \n",
       "248539   ----- Forwarded by Cindy Derecskey/Corp/Enron on 05/01/2001 10:53 AM -----  Linda Robertson 05/...  "
      ]
     },
     "execution_count": 20,
     "metadata": {},
     "output_type": "execute_result"
    }
   ],
   "source": [
    "federal.head(3)"
   ]
  },
  {
   "cell_type": "code",
   "execution_count": 21,
   "metadata": {},
   "outputs": [],
   "source": [
    "import pandas as pd\n",
    "import matplotlib.pyplot as plt\n",
    "%matplotlib inline  \n",
    "import nltk\n",
    "from nltk import word_tokenize, sent_tokenize\n",
    "from nltk.corpus import stopwords\n",
    "from nltk.stem import LancasterStemmer, WordNetLemmatizer, PorterStemmer\n",
    "from wordcloud import WordCloud, STOPWORDS\n",
    "from textblob import TextBlob"
   ]
  },
  {
   "cell_type": "code",
   "execution_count": 22,
   "metadata": {},
   "outputs": [
    {
     "name": "stderr",
     "output_type": "stream",
     "text": [
      "<ipython-input-22-43092bae38ea>:2: SettingWithCopyWarning: \n",
      "A value is trying to be set on a copy of a slice from a DataFrame.\n",
      "Try using .loc[row_indexer,col_indexer] = value instead\n",
      "\n",
      "See the caveats in the documentation: https://pandas.pydata.org/pandas-docs/stable/user_guide/indexing.html#returning-a-view-versus-a-copy\n",
      "  hr['reviews.text'] = hr['email-body'].astype(str)\n"
     ]
    }
   ],
   "source": [
    "## Change the reviews type to string\n",
    "hr['reviews.text'] = hr['email-body'].astype(str)"
   ]
  },
  {
   "cell_type": "code",
   "execution_count": 23,
   "metadata": {},
   "outputs": [
    {
     "name": "stderr",
     "output_type": "stream",
     "text": [
      "<ipython-input-23-08ca5a67c448>:2: SettingWithCopyWarning: \n",
      "A value is trying to be set on a copy of a slice from a DataFrame.\n",
      "Try using .loc[row_indexer,col_indexer] = value instead\n",
      "\n",
      "See the caveats in the documentation: https://pandas.pydata.org/pandas-docs/stable/user_guide/indexing.html#returning-a-view-versus-a-copy\n",
      "  hr['reviews.text'] = hr['reviews.text'].apply(lambda x: \" \".join(x.lower() for x in x.split()))\n"
     ]
    }
   ],
   "source": [
    "## Lowercase all reviews\n",
    "hr['reviews.text'] = hr['reviews.text'].apply(lambda x: \" \".join(x.lower() for x in x.split()))"
   ]
  },
  {
   "cell_type": "code",
   "execution_count": 24,
   "metadata": {},
   "outputs": [
    {
     "name": "stderr",
     "output_type": "stream",
     "text": [
      "[nltk_data] Downloading package stopwords to /home/becode/nltk_data...\n",
      "[nltk_data]   Package stopwords is already up-to-date!\n",
      "<ipython-input-24-b8ac47762126>:6: SettingWithCopyWarning: \n",
      "A value is trying to be set on a copy of a slice from a DataFrame.\n",
      "Try using .loc[row_indexer,col_indexer] = value instead\n",
      "\n",
      "See the caveats in the documentation: https://pandas.pydata.org/pandas-docs/stable/user_guide/indexing.html#returning-a-view-versus-a-copy\n",
      "  hr['reviews.text'] = hr['reviews.text'].apply(lambda x: \" \".join(x for x in x.split() if x not in stop))\n"
     ]
    }
   ],
   "source": [
    "import nltk\n",
    "nltk.download('stopwords')\n",
    "\n",
    "stop = stopwords.words('english')\n",
    "\n",
    "hr['reviews.text'] = hr['reviews.text'].apply(lambda x: \" \".join(x for x in x.split() if x not in stop))"
   ]
  },
  {
   "cell_type": "code",
   "execution_count": 25,
   "metadata": {},
   "outputs": [
    {
     "name": "stderr",
     "output_type": "stream",
     "text": [
      "<ipython-input-25-8939f66f4a3c>:3: SettingWithCopyWarning: \n",
      "A value is trying to be set on a copy of a slice from a DataFrame.\n",
      "Try using .loc[row_indexer,col_indexer] = value instead\n",
      "\n",
      "See the caveats in the documentation: https://pandas.pydata.org/pandas-docs/stable/user_guide/indexing.html#returning-a-view-versus-a-copy\n",
      "  hr['reviews.text'] = hr['reviews.text'].apply(lambda x: \" \".join([st.stem(word) for word in x.split()]))\n"
     ]
    }
   ],
   "source": [
    "st = PorterStemmer()\n",
    "\n",
    "hr['reviews.text'] = hr['reviews.text'].apply(lambda x: \" \".join([st.stem(word) for word in x.split()]))"
   ]
  },
  {
   "cell_type": "markdown",
   "metadata": {},
   "source": [
    "## Sentiment scores: polarity and subjectivity"
   ]
  },
  {
   "cell_type": "code",
   "execution_count": 26,
   "metadata": {},
   "outputs": [
    {
     "name": "stderr",
     "output_type": "stream",
     "text": [
      "<ipython-input-26-828f5d771500>:6: SettingWithCopyWarning: \n",
      "A value is trying to be set on a copy of a slice from a DataFrame.\n",
      "Try using .loc[row_indexer,col_indexer] = value instead\n",
      "\n",
      "See the caveats in the documentation: https://pandas.pydata.org/pandas-docs/stable/user_guide/indexing.html#returning-a-view-versus-a-copy\n",
      "  hr['senti_score'] = hr['reviews.text'].apply(senti)\n"
     ]
    },
    {
     "data": {
      "text/plain": [
       "54170        (0.09301146384479718, 0.4460611405055851)\n",
       "163130      (-0.05555555555555555, 0.1111111111111111)\n",
       "163131                  (-0.016666666666666663, 0.325)\n",
       "163132     (-0.03333333333333333, 0.06666666666666667)\n",
       "163133    (-0.007575757575757576, 0.19696969696969696)\n",
       "Name: senti_score, dtype: object"
      ]
     },
     "execution_count": 26,
     "metadata": {},
     "output_type": "execute_result"
    }
   ],
   "source": [
    "## Define a function which can be applied to calculate the score for the whole dataset\n",
    "\n",
    "def senti(x):\n",
    "    return TextBlob(x).sentiment  \n",
    "\n",
    "hr['senti_score'] = hr['reviews.text'].apply(senti)\n",
    "\n",
    "hr.senti_score.head()"
   ]
  },
  {
   "cell_type": "code",
   "execution_count": 27,
   "metadata": {},
   "outputs": [],
   "source": [
    "# hr.senti_score[28873]"
   ]
  },
  {
   "cell_type": "code",
   "execution_count": 28,
   "metadata": {},
   "outputs": [
    {
     "name": "stdout",
     "output_type": "stream",
     "text": [
      "Overall Polarity: 0.019628697984962893\n",
      "Overall Subjectivity: 0.3755017111283307\n"
     ]
    }
   ],
   "source": [
    "## Iterate on items of senti_score to save values on list\n",
    "polarity = []\n",
    "subjective = []\n",
    "for idx, score in hr.senti_score.iteritems():\n",
    "    polarity.append(score[0])\n",
    "    subjective.append(score[1])\n",
    "    \n",
    "### What is the overall feeling in the department ?\n",
    "\n",
    "overall_polarity = np.mean(polarity)\n",
    "print(f'Overall Polarity:',overall_polarity)\n",
    "overall_subjectivity = np.mean(subjective)\n",
    "print(f'Overall Subjectivity:',overall_subjectivity)\n",
    "\n",
    "# Polarity is float which lies in the range of [-1,1] \n",
    "# 1 means positive statement\n",
    "# -1 means a negative statement\n",
    "\n",
    "# Subjectivity is a float within the range [0.0, 1.0]\n",
    "# 0.0 is very objective \n",
    "# 1.0 is very subjective,\n",
    "\n",
    "###Type of scores must be checked; it should be numerical"
   ]
  },
  {
   "cell_type": "code",
   "execution_count": 29,
   "metadata": {},
   "outputs": [
    {
     "name": "stdout",
     "output_type": "stream",
     "text": [
      "Happiness: 2% \n",
      "People is slightly happy 😊 \n",
      "62% Objective 💭 \n"
     ]
    }
   ],
   "source": [
    "### Sentiments as emojies:\n",
    "\n",
    "import emoji\n",
    "\n",
    "def give_emoji_sentiment(score):\n",
    "    \n",
    "    if score == 0:\n",
    "        print(f'Happiness: {round(score*100)}% ')\n",
    "        print(emoji.emojize(\"Too many poker faces :expressionless:\", use_aliases=True))\n",
    "    elif (score >0 and score <0.5):\n",
    "        print(f'Happiness: {round(score*100)}% ')\n",
    "        print(emoji.emojize(\"People is slightly happy :blush: \", use_aliases=True))\n",
    "    elif score > 0.5:\n",
    "        print(f'Happiness: {round(score*100)}% ')\n",
    "        print(emoji.emojize(\"Happy people :smile:\", use_aliases=True))\n",
    "    else:\n",
    "        print(f'Happiness: {round(score*100)}% ')\n",
    "        print(emoji.emojize(\"Angry birds :angry:\", use_aliases=True))\n",
    "\n",
    "          \n",
    "        \n",
    "def give_emoji_subjectivity(score):\n",
    "    \n",
    "    if score == 0: #Very objective\n",
    "        print(emoji.emojize(\"A :100:% objective department :speech_balloon: :memo:\", use_aliases=True))\n",
    "    elif score == 1: #Very subjective\n",
    "        print(emoji.emojize(\"A very subjective department :thought_balloon:\", use_aliases=True)) \n",
    "    else:\n",
    "        print(emoji.emojize(f\"{100 - round(score*100)}% Objective :thought_balloon: \", use_aliases=True))\n",
    "\n",
    "give_emoji_sentiment(overall_polarity)\n",
    "give_emoji_subjectivity(overall_subjectivity)"
   ]
  },
  {
   "cell_type": "code",
   "execution_count": 30,
   "metadata": {},
   "outputs": [
    {
     "ename": "SyntaxError",
     "evalue": "'break' outside loop (<ipython-input-30-6aaf1f276005>, line 1)",
     "output_type": "error",
     "traceback": [
      "\u001b[0;36m  File \u001b[0;32m\"<ipython-input-30-6aaf1f276005>\"\u001b[0;36m, line \u001b[0;32m1\u001b[0m\n\u001b[0;31m    break\u001b[0m\n\u001b[0m    ^\u001b[0m\n\u001b[0;31mSyntaxError\u001b[0m\u001b[0;31m:\u001b[0m 'break' outside loop\n"
     ]
    }
   ],
   "source": [
    "break"
   ]
  },
  {
   "cell_type": "code",
   "execution_count": null,
   "metadata": {},
   "outputs": [],
   "source": [
    "hr.head(2)"
   ]
  },
  {
   "cell_type": "markdown",
   "metadata": {},
   "source": [
    "### After this line not sure if the code should run: ????"
   ]
  },
  {
   "cell_type": "code",
   "execution_count": null,
   "metadata": {},
   "outputs": [],
   "source": [
    "#Convert date column to datetime \n",
    "\n",
    "df_email[\"Date\"] = pd.to_datetime(df_email[\"Date\"])\n",
    "\n",
    "### Adding classification by year to dataframe:\n",
    "### Datetime is set as an idex and column year is added\n",
    "df_email['year'] = pd.DatetimeIndex(df_email['Date']).year\n",
    "\n",
    "#### Selection of years of interest:\n",
    "data = df_email[df_email.year > 1998]\n",
    "data = data[data.year < 2003] "
   ]
  },
  {
   "cell_type": "code",
   "execution_count": null,
   "metadata": {},
   "outputs": [],
   "source": [
    "# data.head()"
   ]
  },
  {
   "cell_type": "code",
   "execution_count": null,
   "metadata": {},
   "outputs": [],
   "source": [
    "# data = df_email.drop_duplicates(['email-body'])"
   ]
  },
  {
   "cell_type": "code",
   "execution_count": null,
   "metadata": {},
   "outputs": [],
   "source": [
    "# data.shape"
   ]
  },
  {
   "cell_type": "code",
   "execution_count": null,
   "metadata": {},
   "outputs": [],
   "source": [
    "data['X-From'].value_counts().head(5)"
   ]
  },
  {
   "cell_type": "code",
   "execution_count": null,
   "metadata": {},
   "outputs": [],
   "source": [
    "data['X-To'].value_counts().head(3)"
   ]
  },
  {
   "cell_type": "code",
   "execution_count": null,
   "metadata": {},
   "outputs": [],
   "source": [
    "df_employee = df_email.groupby(['employee']).describe()"
   ]
  },
  {
   "cell_type": "code",
   "execution_count": null,
   "metadata": {},
   "outputs": [],
   "source": [
    "PKA = df_email.groupby(['X-From', 'X-To'])\n",
    "\n",
    "PKA.get_group(('Kay Mann', 'Kay Mann')).count()\n"
   ]
  },
  {
   "cell_type": "code",
   "execution_count": null,
   "metadata": {},
   "outputs": [],
   "source": [
    "df_email.head(3)"
   ]
  },
  {
   "cell_type": "code",
   "execution_count": null,
   "metadata": {},
   "outputs": [],
   "source": [
    "df_email = df_email.drop(columns=['Message-Body'])"
   ]
  },
  {
   "cell_type": "code",
   "execution_count": null,
   "metadata": {},
   "outputs": [],
   "source": [
    "df_email.head(3)"
   ]
  },
  {
   "cell_type": "code",
   "execution_count": null,
   "metadata": {},
   "outputs": [],
   "source": [
    "#df_email.to_csv('data.csv',index=False)"
   ]
  },
  {
   "cell_type": "code",
   "execution_count": null,
   "metadata": {},
   "outputs": [],
   "source": [
    "#print(df_email.iloc[:][\"X-Folder\"].nunique())\n",
    "\n",
    "df_email['X-Folder'].value_counts()"
   ]
  },
  {
   "cell_type": "markdown",
   "metadata": {},
   "source": []
  },
  {
   "cell_type": "code",
   "execution_count": null,
   "metadata": {
    "scrolled": true
   },
   "outputs": [],
   "source": [
    "print(df_email[\"X-Folder\"].sample(7))"
   ]
  },
  {
   "cell_type": "code",
   "execution_count": null,
   "metadata": {},
   "outputs": [],
   "source": [
    "import seaborn as sns\n",
    "import matplotlib.pyplot as plt\n",
    "%matplotlib inline\n",
    "# \n",
    "# dataframe containing counts of every word in the emails dataframe\n",
    "email_count = df_email[\"X-Folder\"].value_counts()\n",
    "indices = email_count.index\n",
    "count = pd.DataFrame(email_count, columns = [\"X-Folder\"])\n",
    "count[\"Folder Names\"] = indices\n",
    "#print count.head()\n",
    "\n",
    "def barplot(df, X, Y, figsize, color, orient, ylabel, xlabel, font_scale, rotation):\n",
    "    f, ax = plt.subplots(figsize=figsize)\n",
    "    sns.set_color_codes(\"muted\")\n",
    "    sns.barplot(x = X, y = Y, data = df, color = color, orient = orient)\n",
    "    ax.set(ylabel = ylabel, xlabel = xlabel)\n",
    "    sns.set(font_scale = font_scale)\n",
    "    plt.xticks(rotation = rotation) \n",
    "    plt.show()\n",
    "    \n",
    "barplot(df = count[:40], X = \"X-Folder\", Y = \"Folder Names\", figsize = (7, 8), color = 'b', orient = 'h', ylabel = \"Folders\", xlabel = \"Count\", font_scale = 1.2, rotation = 90)"
   ]
  },
  {
   "cell_type": "code",
   "execution_count": null,
   "metadata": {},
   "outputs": [],
   "source": [
    "def preprocess_folder(data):\n",
    "    folders = []\n",
    "    for item in data:\n",
    "        if item is None or item is '':\n",
    "            folders.append(np.nan)\n",
    "        else:\n",
    "            item = item.split(\"\\\\\")[-1]\n",
    "            item = item.lower()\n",
    "            folders.append(item)\n",
    "    print(\"Folder cleaned!\")\n",
    "    return folders      \n",
    "df_email[\"Selected\"] = preprocess_folder(df_email[\"X-Folder\"])"
   ]
  },
  {
   "cell_type": "code",
   "execution_count": null,
   "metadata": {},
   "outputs": [],
   "source": [
    "import nltk\n",
    "nltk.download('vader_lexicon')\n",
    "nltk.download('punkt')"
   ]
  },
  {
   "cell_type": "code",
   "execution_count": null,
   "metadata": {},
   "outputs": [],
   "source": [
    "# first, we import the relevant modules from the NLTK library\n",
    "from nltk.sentiment.vader import SentimentIntensityAnalyzer"
   ]
  },
  {
   "cell_type": "code",
   "execution_count": null,
   "metadata": {},
   "outputs": [],
   "source": [
    "# next, we initialize VADER so we can use it within our Python script\n",
    "sid = SentimentIntensityAnalyzer()"
   ]
  },
  {
   "cell_type": "code",
   "execution_count": null,
   "metadata": {},
   "outputs": [],
   "source": [
    "df_email['Date'] = pd.to_datetime(df_email[\"Date\"])\n",
    "df_email['Date'].dtypes"
   ]
  },
  {
   "cell_type": "code",
   "execution_count": null,
   "metadata": {},
   "outputs": [],
   "source": [
    "df_email.head(3)"
   ]
  },
  {
   "cell_type": "code",
   "execution_count": null,
   "metadata": {},
   "outputs": [],
   "source": [
    "df_email.groupby(['X-From'])"
   ]
  },
  {
   "cell_type": "code",
   "execution_count": null,
   "metadata": {},
   "outputs": [],
   "source": [
    "# value_counts().plot(kind='bar') #### Houston we have an error"
   ]
  },
  {
   "cell_type": "code",
   "execution_count": null,
   "metadata": {},
   "outputs": [],
   "source": [
    "import pandas as pd\n",
    "import matplotlib.pyplot as plt\n",
    "%matplotlib inline  \n",
    "import nltk\n",
    "from nltk import word_tokenize, sent_tokenize\n",
    "from nltk.corpus import stopwords\n",
    "from nltk.stem import LancasterStemmer, WordNetLemmatizer, PorterStemmer\n",
    "from wordcloud import WordCloud, STOPWORDS\n",
    "from textblob import TextBlob"
   ]
  },
  {
   "cell_type": "code",
   "execution_count": null,
   "metadata": {},
   "outputs": [],
   "source": [
    "## Change the reviews type to string\n",
    "data['reviews.text'] = data['email-body'].astype(str)"
   ]
  },
  {
   "cell_type": "code",
   "execution_count": null,
   "metadata": {},
   "outputs": [],
   "source": [
    "data['reviews.text'].head(3)"
   ]
  },
  {
   "cell_type": "code",
   "execution_count": null,
   "metadata": {},
   "outputs": [],
   "source": [
    "## Lowercase all reviews\n",
    "data['reviews.text'] = data['reviews.text'].apply(lambda x: \" \".join(x.lower() for x in x.split()))"
   ]
  },
  {
   "cell_type": "code",
   "execution_count": null,
   "metadata": {},
   "outputs": [],
   "source": [
    "data['reviews.text'].head(3)"
   ]
  },
  {
   "cell_type": "code",
   "execution_count": null,
   "metadata": {},
   "outputs": [],
   "source": [
    "# remove punctuation\n",
    "#df_email['reviews.text'] = df_email['reviews.text'].str.replace(pat = [''])"
   ]
  },
  {
   "cell_type": "code",
   "execution_count": null,
   "metadata": {},
   "outputs": [],
   "source": [
    "#df_email['reviews.text'].str.replace('[^ws]','')\n"
   ]
  },
  {
   "cell_type": "code",
   "execution_count": null,
   "metadata": {},
   "outputs": [],
   "source": [
    "import nltk\n",
    "nltk.download('stopwords')\n",
    "\n",
    "stop = stopwords.words('english')\n",
    "\n",
    "data['reviews.text'] = data['reviews.text'].apply(lambda x: \" \".join(x for x in x.split() if x not in stop))"
   ]
  },
  {
   "cell_type": "code",
   "execution_count": null,
   "metadata": {},
   "outputs": [],
   "source": [
    "st = PorterStemmer()\n",
    "\n",
    "data['reviews.text'] = data['reviews.text'].apply(lambda x: \" \".join([st.stem(word) for word in x.split()]))"
   ]
  },
  {
   "cell_type": "code",
   "execution_count": null,
   "metadata": {},
   "outputs": [],
   "source": [
    "data['reviews.text'].head(3)"
   ]
  },
  {
   "cell_type": "code",
   "execution_count": null,
   "metadata": {},
   "outputs": [],
   "source": [
    "df_email.head(3)"
   ]
  },
  {
   "cell_type": "code",
   "execution_count": null,
   "metadata": {},
   "outputs": [],
   "source": [
    "## Define a function which can be applied to calculate the score for the whole dataset\n",
    "\n",
    "def senti(x):\n",
    "    return TextBlob(x).sentiment  \n",
    "\n",
    "data['senti_score'] = data['reviews.text'].apply(senti)\n",
    "\n",
    "data.senti_score.head()"
   ]
  },
  {
   "cell_type": "code",
   "execution_count": null,
   "metadata": {},
   "outputs": [],
   "source": [
    "data.senti_score.head()"
   ]
  }
 ],
 "metadata": {
  "kernelspec": {
   "display_name": "NLP",
   "language": "python",
   "name": "nlp"
  },
  "language_info": {
   "codemirror_mode": {
    "name": "ipython",
    "version": 3
   },
   "file_extension": ".py",
   "mimetype": "text/x-python",
   "name": "python",
   "nbconvert_exporter": "python",
   "pygments_lexer": "ipython3",
   "version": "3.8.5"
  },
  "toc": {
   "base_numbering": 1,
   "nav_menu": {},
   "number_sections": true,
   "sideBar": true,
   "skip_h1_title": false,
   "title_cell": "Table of Contents",
   "title_sidebar": "Contents",
   "toc_cell": false,
   "toc_position": {},
   "toc_section_display": true,
   "toc_window_display": false
  }
 },
 "nbformat": 4,
 "nbformat_minor": 4
}
