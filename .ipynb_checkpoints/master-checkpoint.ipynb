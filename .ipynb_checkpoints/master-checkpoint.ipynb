{
 "cells": [
  {
   "cell_type": "code",
   "execution_count": 3,
   "metadata": {},
   "outputs": [],
   "source": [
    "import string\n",
    "from collections import Counter\n",
    "import matplotlib.pyplot as plt\n",
    "import pandas as pd\n",
    "pd.set_option(\"display.max_rows\", 999)\n",
    "pd.set_option('max_colwidth',100)\n",
    "import numpy as np\n",
    "from IPython.display import display\n",
    "import os"
   ]
  },
  {
   "cell_type": "code",
   "execution_count": 5,
   "metadata": {},
   "outputs": [
    {
     "name": "stdout",
     "output_type": "stream",
     "text": [
      "Successfully loaded 312645 rows and 23 columns!\n"
     ]
    }
   ],
   "source": [
    "# taking csv prepared earlier to explore data \n",
    "\n",
    "filepath = \"../data/Enron_Kaggle_dataset/score.csv\"\n",
    "# Read the data into a pandas dataframe called emails\n",
    "\n",
    "df = pd.read_csv(filepath)\n",
    "\n",
    "headers = [header for header in df.columns]\n",
    "\n",
    "print(\"Successfully loaded {} rows and {} columns!\".format(df.shape[0], df.shape[1]))"
   ]
  },
  {
   "cell_type": "code",
   "execution_count": 6,
   "metadata": {},
   "outputs": [
    {
     "data": {
      "text/html": [
       "<div>\n",
       "<style scoped>\n",
       "    .dataframe tbody tr th:only-of-type {\n",
       "        vertical-align: middle;\n",
       "    }\n",
       "\n",
       "    .dataframe tbody tr th {\n",
       "        vertical-align: top;\n",
       "    }\n",
       "\n",
       "    .dataframe thead th {\n",
       "        text-align: right;\n",
       "    }\n",
       "</style>\n",
       "<table border=\"1\" class=\"dataframe\">\n",
       "  <thead>\n",
       "    <tr style=\"text-align: right;\">\n",
       "      <th></th>\n",
       "      <th>email-body</th>\n",
       "      <th>From</th>\n",
       "      <th>employee</th>\n",
       "      <th>Date</th>\n",
       "      <th>Subject</th>\n",
       "      <th>X-Folder</th>\n",
       "      <th>To</th>\n",
       "      <th>X-cc</th>\n",
       "      <th>X-Origin</th>\n",
       "      <th>year</th>\n",
       "      <th>...</th>\n",
       "      <th>anger</th>\n",
       "      <th>anticip</th>\n",
       "      <th>trust</th>\n",
       "      <th>surprise</th>\n",
       "      <th>positive</th>\n",
       "      <th>negative</th>\n",
       "      <th>sadness</th>\n",
       "      <th>disgust</th>\n",
       "      <th>joy</th>\n",
       "      <th>topemotion</th>\n",
       "    </tr>\n",
       "  </thead>\n",
       "  <tbody>\n",
       "    <tr>\n",
       "      <th>0</th>\n",
       "      <td>Here is our forecast</td>\n",
       "      <td>phillip.allen@enron.com</td>\n",
       "      <td>allen-p</td>\n",
       "      <td>2001-05-14 23:39:00+00:00</td>\n",
       "      <td>NaN</td>\n",
       "      <td>'sent mail</td>\n",
       "      <td>tim.belden@enron.com</td>\n",
       "      <td>NaN</td>\n",
       "      <td>Allen-P</td>\n",
       "      <td>2001</td>\n",
       "      <td>...</td>\n",
       "      <td>0.100000</td>\n",
       "      <td>0.100000</td>\n",
       "      <td>0.100000</td>\n",
       "      <td>0.100000</td>\n",
       "      <td>0.100000</td>\n",
       "      <td>0.100000</td>\n",
       "      <td>0.100000</td>\n",
       "      <td>0.100000</td>\n",
       "      <td>0.100000</td>\n",
       "      <td>fear</td>\n",
       "    </tr>\n",
       "    <tr>\n",
       "      <th>1</th>\n",
       "      <td>Traveling to have a business meeting takes the fun out of the trip.  Especially if you have to ...</td>\n",
       "      <td>phillip.allen@enron.com</td>\n",
       "      <td>allen-p</td>\n",
       "      <td>2001-05-04 20:51:00+00:00</td>\n",
       "      <td>Re:</td>\n",
       "      <td>'sent mail</td>\n",
       "      <td>john.lavorato@enron.com</td>\n",
       "      <td>NaN</td>\n",
       "      <td>Allen-P</td>\n",
       "      <td>2001</td>\n",
       "      <td>...</td>\n",
       "      <td>0.094070</td>\n",
       "      <td>0.096115</td>\n",
       "      <td>0.106339</td>\n",
       "      <td>0.089980</td>\n",
       "      <td>0.114519</td>\n",
       "      <td>0.104294</td>\n",
       "      <td>0.100204</td>\n",
       "      <td>0.096115</td>\n",
       "      <td>0.100204</td>\n",
       "      <td>positive</td>\n",
       "    </tr>\n",
       "    <tr>\n",
       "      <th>2</th>\n",
       "      <td>test successful.  way to go!!!</td>\n",
       "      <td>phillip.allen@enron.com</td>\n",
       "      <td>allen-p</td>\n",
       "      <td>2000-10-18 10:00:00+00:00</td>\n",
       "      <td>Re: test</td>\n",
       "      <td>'sent mail</td>\n",
       "      <td>leah.arsdall@enron.com</td>\n",
       "      <td>NaN</td>\n",
       "      <td>Allen-P</td>\n",
       "      <td>2000</td>\n",
       "      <td>...</td>\n",
       "      <td>0.083333</td>\n",
       "      <td>0.111111</td>\n",
       "      <td>0.111111</td>\n",
       "      <td>0.083333</td>\n",
       "      <td>0.111111</td>\n",
       "      <td>0.111111</td>\n",
       "      <td>0.111111</td>\n",
       "      <td>0.083333</td>\n",
       "      <td>0.111111</td>\n",
       "      <td>anticip</td>\n",
       "    </tr>\n",
       "  </tbody>\n",
       "</table>\n",
       "<p>3 rows × 23 columns</p>\n",
       "</div>"
      ],
      "text/plain": [
       "                                                                                            email-body  \\\n",
       "0                                                                               Here is our forecast     \n",
       "1   Traveling to have a business meeting takes the fun out of the trip.  Especially if you have to ...   \n",
       "2                                                                       test successful.  way to go!!!   \n",
       "\n",
       "                      From employee                       Date   Subject  \\\n",
       "0  phillip.allen@enron.com  allen-p  2001-05-14 23:39:00+00:00       NaN   \n",
       "1  phillip.allen@enron.com  allen-p  2001-05-04 20:51:00+00:00       Re:   \n",
       "2  phillip.allen@enron.com  allen-p  2000-10-18 10:00:00+00:00  Re: test   \n",
       "\n",
       "     X-Folder                       To X-cc X-Origin  year  ...     anger  \\\n",
       "0  'sent mail     tim.belden@enron.com  NaN  Allen-P  2001  ...  0.100000   \n",
       "1  'sent mail  john.lavorato@enron.com  NaN  Allen-P  2001  ...  0.094070   \n",
       "2  'sent mail   leah.arsdall@enron.com  NaN  Allen-P  2000  ...  0.083333   \n",
       "\n",
       "    anticip     trust  surprise  positive  negative   sadness   disgust  \\\n",
       "0  0.100000  0.100000  0.100000  0.100000  0.100000  0.100000  0.100000   \n",
       "1  0.096115  0.106339  0.089980  0.114519  0.104294  0.100204  0.096115   \n",
       "2  0.111111  0.111111  0.083333  0.111111  0.111111  0.111111  0.083333   \n",
       "\n",
       "        joy  topemotion  \n",
       "0  0.100000        fear  \n",
       "1  0.100204    positive  \n",
       "2  0.111111     anticip  \n",
       "\n",
       "[3 rows x 23 columns]"
      ]
     },
     "execution_count": 6,
     "metadata": {},
     "output_type": "execute_result"
    }
   ],
   "source": [
    "df.head(3)"
   ]
  },
  {
   "cell_type": "markdown",
   "metadata": {},
   "source": [
    "#  NRCLex lib for emotion score"
   ]
  },
  {
   "cell_type": "code",
   "execution_count": 7,
   "metadata": {},
   "outputs": [
    {
     "ename": "ModuleNotFoundError",
     "evalue": "No module named 'nrclex'",
     "output_type": "error",
     "traceback": [
      "\u001b[0;31m----------------------------------------------------------------------\u001b[0m",
      "\u001b[0;31mModuleNotFoundError\u001b[0m                  Traceback (most recent call last)",
      "\u001b[0;32m<ipython-input-7-9ebcdab64e3e>\u001b[0m in \u001b[0;36m<module>\u001b[0;34m\u001b[0m\n\u001b[0;32m----> 1\u001b[0;31m \u001b[0;32mfrom\u001b[0m \u001b[0mnrclex\u001b[0m \u001b[0;32mimport\u001b[0m \u001b[0mNRCLex\u001b[0m\u001b[0;34m\u001b[0m\u001b[0;34m\u001b[0m\u001b[0m\n\u001b[0m\u001b[1;32m      2\u001b[0m \u001b[0;31m# https://pypi.org/project/NRCLex/\u001b[0m\u001b[0;34m\u001b[0m\u001b[0;34m\u001b[0m\u001b[0;34m\u001b[0m\u001b[0m\n\u001b[1;32m      3\u001b[0m '''\n\u001b[1;32m      4\u001b[0m \u001b[0mNRCLex\u001b[0m \u001b[0mwill\u001b[0m \u001b[0mmeasure\u001b[0m \u001b[0memotional\u001b[0m \u001b[0maffect\u001b[0m \u001b[0;32mfrom\u001b[0m \u001b[0ma\u001b[0m \u001b[0mbody\u001b[0m \u001b[0mof\u001b[0m \u001b[0mtext\u001b[0m\u001b[0;34m.\u001b[0m \u001b[0mAffect\u001b[0m \u001b[0mdictionary\u001b[0m \u001b[0mcontains\u001b[0m \u001b[0mapproximately\u001b[0m \u001b[0;36m27\u001b[0m\u001b[0;34m,\u001b[0m\u001b[0;36m000\u001b[0m \u001b[0mwords\u001b[0m\u001b[0;34m,\u001b[0m\u001b[0;34m\u001b[0m\u001b[0;34m\u001b[0m\u001b[0m\n\u001b[1;32m      5\u001b[0m \u001b[0;32mand\u001b[0m \u001b[0;32mis\u001b[0m \u001b[0mbased\u001b[0m \u001b[0mon\u001b[0m \u001b[0mthe\u001b[0m \u001b[0mNational\u001b[0m \u001b[0mResearch\u001b[0m \u001b[0mCouncil\u001b[0m \u001b[0mCanada\u001b[0m \u001b[0;34m(\u001b[0m\u001b[0mNRC\u001b[0m\u001b[0;34m)\u001b[0m\u001b[0maffect\u001b[0m \u001b[0mlexicon\u001b[0m \u001b[0;34m(\u001b[0m\u001b[0msee\u001b[0m \u001b[0mlink\u001b[0m \u001b[0mbelow\u001b[0m\u001b[0;34m)\u001b[0m\u001b[0;34m\u001b[0m\u001b[0;34m\u001b[0m\u001b[0m\n",
      "\u001b[0;31mModuleNotFoundError\u001b[0m: No module named 'nrclex'"
     ]
    }
   ],
   "source": [
    "from nrclex import NRCLex\n",
    "# https://pypi.org/project/NRCLex/\n",
    "'''\n",
    "NRCLex will measure emotional affect from a body of text. Affect dictionary contains approximately 27,000 words, \n",
    "and is based on the National Research Council Canada (NRC)affect lexicon (see link below) \n",
    "and the NLTK library's WordNet synonym sets.\n",
    "'''"
   ]
  },
  {
   "cell_type": "code",
   "execution_count": null,
   "metadata": {},
   "outputs": [],
   "source": [
    "def emotion(x):\n",
    "    text_object = NRCLex(x)\n",
    "    fear = text_object.affect_frequencies['fear']\n",
    "    anger = text_object.affect_frequencies['anger']\n",
    "    anticip = text_object.affect_frequencies['anticip']\n",
    "    trust = text_object.affect_frequencies['trust']\n",
    "    surprise = text_object.affect_frequencies['surprise']\n",
    "    positive = text_object.affect_frequencies['positive']\n",
    "    negative = text_object.affect_frequencies['negative']\n",
    "    sadness = text_object.affect_frequencies['sadness']\n",
    "    disgust = text_object.affect_frequencies['disgust']\n",
    "    joy = text_object.affect_frequencies['joy']\n",
    "    topemotion = text_object.top_emotions[0][0]\n",
    "    return pd.Series([fear, anger, anticip, trust, surprise, positive, negative, sadness, disgust, joy, topemotion], index=['fear', 'anger', 'anticip', 'trust', 'surprise', 'positive', 'negative', 'sadness', 'disgust', 'joy', 'topemotion'])"
   ]
  },
  {
   "cell_type": "code",
   "execution_count": null,
   "metadata": {},
   "outputs": [],
   "source": [
    "# calling function to get emotion score\n",
    "\n",
    "#df[['fear', 'anger', 'anticip', 'trust', 'surprise', 'positive', 'negative', 'sadness', 'disgust', 'joy', 'topemotion']] = df['email-body'].swifter.apply(lambda x : emotion(x))\n",
    "\n",
    "'''\n",
    "already ran function to add score so no need to run again\n",
    "'''"
   ]
  },
  {
   "cell_type": "code",
   "execution_count": null,
   "metadata": {},
   "outputs": [],
   "source": [
    "df[\"Date\"] = pd.to_datetime(df[\"Date\"])"
   ]
  },
  {
   "cell_type": "code",
   "execution_count": null,
   "metadata": {},
   "outputs": [],
   "source": [
    "# Function to add time_hour of mail in features\n",
    "\n",
    "def hr_func(ts):\n",
    "    return ts.hour\n",
    "\n",
    "\n",
    "# calling the function\n",
    "df['time_hour'] = df['Date'].apply(hr_func)"
   ]
  },
  {
   "cell_type": "code",
   "execution_count": null,
   "metadata": {},
   "outputs": [],
   "source": [
    "### Function for creating class according to hour of a day\n",
    "### for employee sending or receiving mails reflecting the stress level for work \n",
    "\n",
    "def label (row):\n",
    "    if 9 <= row <= 17: # working hours of a normal office day-- stress level --- \"Low\"\n",
    "        return 'Work'\n",
    "    elif 17 < row <= 21: # working little late to complete work for the day --stress level--- \"Medium\"\n",
    "        return 'Evening'\n",
    "    elif (21 < row) & (row <= 24): # working really late or whole night --- stress level --- \"High\"\n",
    "        return 'Night'\n",
    "    return 'Night'\n"
   ]
  },
  {
   "cell_type": "code",
   "execution_count": null,
   "metadata": {},
   "outputs": [],
   "source": [
    "## adding the \"working-hour\" feature by calling the function\n",
    "\n",
    "df['Work'] = df['time_hour'].apply (lambda row: label(row))\n"
   ]
  },
  {
   "cell_type": "code",
   "execution_count": null,
   "metadata": {},
   "outputs": [],
   "source": [
    "## having a look at new features\n",
    "\n",
    "df[['topemotion', 'time_hour', 'Work']].head()"
   ]
  },
  {
   "cell_type": "code",
   "execution_count": null,
   "metadata": {},
   "outputs": [],
   "source": [
    "##  Ploting stress level over the years \n",
    "\n",
    "df.groupby(\"year\")[\"Work\"].value_counts().plot.barh()"
   ]
  },
  {
   "cell_type": "code",
   "execution_count": null,
   "metadata": {},
   "outputs": [],
   "source": [
    "## Plotting the same in Pie chart\n",
    "\n",
    "data = df.groupby(\"year\")[\"Work\"].value_counts()\n",
    "\n",
    "pie, ax = plt.subplots(figsize=[16,10])\n",
    "\n",
    "labels = data.keys()\n",
    "\n",
    "plt.pie(x=data, autopct=\"%.1f%%\", explode=[0.05]*12, labels=labels, pctdistance=0.9)\n",
    "\n",
    "plt.title(\"Work\", fontsize=14);"
   ]
  },
  {
   "cell_type": "code",
   "execution_count": null,
   "metadata": {},
   "outputs": [],
   "source": [
    "### Function for plotting the wordcloud on the basis of sentiment analysis \n",
    "\n",
    "from sklearn.feature_extraction.stop_words import ENGLISH_STOP_WORDS\n",
    "from nltk.corpus import stopwords\n",
    "import wordcloud\n",
    "\n",
    "\n",
    "def WC(Folder, stpwords = None):\n",
    "    \n",
    "    data = df.loc[df['X-Folder'] == Folder]\n",
    "     \n",
    "    \n",
    "    stop_words = stopwords.words('english')\n",
    "    \n",
    "    list_stpwords = ['enron', 'com', 're', 'RECIPIENTS', 'CN', 'ENRON', 'OU', 'NA', 'Thank', 'mail', 'know', 'get', 'Thanks', 'one', 'let', 'cc', 'bc', 'subject', 'http', 'www', 'hotmail', 'email', 'would', 'back', 'time', 'bcc','new', 'aol', 'Com', 'Original Message','message']\n",
    "    \n",
    "    if stpwords is True:\n",
    "        \n",
    "         list_stpwords.append(stpwords) \n",
    "        \n",
    "        \n",
    "    stop_words.extend(list_stpwords)\n",
    "\n",
    "    subjects = ' '.join(data['email-body'])\n",
    "\n",
    "    fig, ax = plt.subplots(figsize=(16, 12))\n",
    "\n",
    "    wc = wordcloud.WordCloud(width=800, \n",
    "                             height=600, \n",
    "                             max_words=200,\n",
    "                             stopwords=stop_words).generate(subjects)\n",
    "    ax.imshow(wc)\n",
    "    ax.axis(\"off\")\n",
    "    \n",
    "    plot = ax.imshow(wc)\n",
    "    \n",
    "    return plot"
   ]
  },
  {
   "cell_type": "code",
   "execution_count": null,
   "metadata": {},
   "outputs": [],
   "source": [
    "## Calling the function to check how it works\n",
    "\n",
    "WC('resumes')"
   ]
  },
  {
   "cell_type": "code",
   "execution_count": null,
   "metadata": {},
   "outputs": [],
   "source": [
    "df = df.drop(columns = ['Stress_level'])"
   ]
  },
  {
   "cell_type": "code",
   "execution_count": null,
   "metadata": {},
   "outputs": [],
   "source": [
    "df.head()"
   ]
  },
  {
   "cell_type": "code",
   "execution_count": null,
   "metadata": {},
   "outputs": [],
   "source": [
    "data = df.groupby(\"year\")[\"Stress_level\"].value_counts(normalize  = True)"
   ]
  },
  {
   "cell_type": "code",
   "execution_count": null,
   "metadata": {},
   "outputs": [],
   "source": [
    "data"
   ]
  },
  {
   "cell_type": "code",
   "execution_count": null,
   "metadata": {},
   "outputs": [],
   "source": []
  },
  {
   "cell_type": "code",
   "execution_count": null,
   "metadata": {},
   "outputs": [],
   "source": []
  },
  {
   "cell_type": "code",
   "execution_count": null,
   "metadata": {},
   "outputs": [],
   "source": []
  },
  {
   "cell_type": "code",
   "execution_count": null,
   "metadata": {},
   "outputs": [],
   "source": []
  },
  {
   "cell_type": "code",
   "execution_count": null,
   "metadata": {},
   "outputs": [],
   "source": []
  },
  {
   "cell_type": "code",
   "execution_count": null,
   "metadata": {},
   "outputs": [],
   "source": []
  }
 ],
 "metadata": {
  "kernelspec": {
   "display_name": "Python 3",
   "language": "python",
   "name": "python3"
  },
  "language_info": {
   "codemirror_mode": {
    "name": "ipython",
    "version": 3
   },
   "file_extension": ".py",
   "mimetype": "text/x-python",
   "name": "python",
   "nbconvert_exporter": "python",
   "pygments_lexer": "ipython3",
   "version": "3.8.5"
  },
  "toc": {
   "base_numbering": 1,
   "nav_menu": {},
   "number_sections": true,
   "sideBar": true,
   "skip_h1_title": false,
   "title_cell": "Table of Contents",
   "title_sidebar": "Contents",
   "toc_cell": false,
   "toc_position": {},
   "toc_section_display": true,
   "toc_window_display": false
  }
 },
 "nbformat": 4,
 "nbformat_minor": 4
}
